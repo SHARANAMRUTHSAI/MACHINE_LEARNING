{
 "cells": [
  {
   "cell_type": "markdown",
   "metadata": {},
   "source": [
    "# Nursery School Dataset "
   ]
  },
  {
   "cell_type": "markdown",
   "metadata": {},
   "source": [
    "Nursery Database was derived from a hierarchical decision model originally developed to rank applications for nursery schools. It was used during several years in 1980's when there was excessive enrollment to these schools in Ljubljana, Slovenia, and the rejected applications frequently needed an objective explanation. The final decision depended on three subproblems: occupation of parents and child's nursery, family structure and financial standing, and social and health picture of the family. The model was developed within expert system shell for decision making DEX"
   ]
  },
  {
   "cell_type": "markdown",
   "metadata": {},
   "source": [
    "Now We will read the data and load it into a dataframe in python."
   ]
  },
  {
   "cell_type": "code",
   "execution_count": 26,
   "metadata": {
    "collapsed": true
   },
   "outputs": [],
   "source": [
    "# Importing the libraries which we need now.\n",
    "\n",
    "import pandas\n",
    "\n",
    "from pandas.plotting import scatter_matrix\n",
    "\n",
    "import matplotlib.pyplot as plt\n",
    "\n",
    "%matplotlib inline\n",
    "\n",
    "# Dataset from - https://archive.ics.uci.edu/ml/datasets/Nursery\n",
    "\n",
    "df = pandas.read_table('nursery.txt', sep=',', header=None, names=['parents', 'has_nurs', 'form', 'children','housing',\n",
    "                                                                   'finance','social','health','classifier'])\n"
   ]
  },
  {
   "cell_type": "markdown",
   "metadata": {},
   "source": [
    "# Summarizing the Dataset"
   ]
  },
  {
   "cell_type": "markdown",
   "metadata": {},
   "source": [
    "### 1. Dimensions Of the DataSet.\n",
    "\n",
    "We have some data and if we don't know how many features and instances our dataset has, it is of no use. So, we should find the dimensions of the dataset."
   ]
  },
  {
   "cell_type": "code",
   "execution_count": 27,
   "metadata": {},
   "outputs": [
    {
     "name": "stdout",
     "output_type": "stream",
     "text": [
      "(12960, 9)\n"
     ]
    }
   ],
   "source": [
    "# shape attribute gives the dimensions of a dataframe\n",
    "print df.shape"
   ]
  },
  {
   "cell_type": "markdown",
   "metadata": {},
   "source": [
    "The above displayed result shows that the dataframe has 12960 rows and 9 colums. It means that we have 9 features and 12960 instances."
   ]
  },
  {
   "cell_type": "markdown",
   "metadata": {},
   "source": [
    "### 2. Looking at the data\n",
    "\n",
    "It's a very good practice to look at your data before you proceed. We can look how our data is structured"
   ]
  },
  {
   "cell_type": "code",
   "execution_count": 28,
   "metadata": {},
   "outputs": [
    {
     "data": {
      "text/html": [
       "<div>\n",
       "<style>\n",
       "    .dataframe thead tr:only-child th {\n",
       "        text-align: right;\n",
       "    }\n",
       "\n",
       "    .dataframe thead th {\n",
       "        text-align: left;\n",
       "    }\n",
       "\n",
       "    .dataframe tbody tr th {\n",
       "        vertical-align: top;\n",
       "    }\n",
       "</style>\n",
       "<table border=\"1\" class=\"dataframe\">\n",
       "  <thead>\n",
       "    <tr style=\"text-align: right;\">\n",
       "      <th></th>\n",
       "      <th>parents</th>\n",
       "      <th>has_nurs</th>\n",
       "      <th>form</th>\n",
       "      <th>children</th>\n",
       "      <th>housing</th>\n",
       "      <th>finance</th>\n",
       "      <th>social</th>\n",
       "      <th>health</th>\n",
       "      <th>classifier</th>\n",
       "    </tr>\n",
       "  </thead>\n",
       "  <tbody>\n",
       "    <tr>\n",
       "      <th>0</th>\n",
       "      <td>usual</td>\n",
       "      <td>proper</td>\n",
       "      <td>complete</td>\n",
       "      <td>1</td>\n",
       "      <td>convenient</td>\n",
       "      <td>convenient</td>\n",
       "      <td>nonprob</td>\n",
       "      <td>recommended</td>\n",
       "      <td>recommend</td>\n",
       "    </tr>\n",
       "    <tr>\n",
       "      <th>1</th>\n",
       "      <td>usual</td>\n",
       "      <td>proper</td>\n",
       "      <td>complete</td>\n",
       "      <td>1</td>\n",
       "      <td>convenient</td>\n",
       "      <td>convenient</td>\n",
       "      <td>nonprob</td>\n",
       "      <td>priority</td>\n",
       "      <td>priority</td>\n",
       "    </tr>\n",
       "    <tr>\n",
       "      <th>2</th>\n",
       "      <td>usual</td>\n",
       "      <td>proper</td>\n",
       "      <td>complete</td>\n",
       "      <td>1</td>\n",
       "      <td>convenient</td>\n",
       "      <td>convenient</td>\n",
       "      <td>nonprob</td>\n",
       "      <td>not_recom</td>\n",
       "      <td>not_recom</td>\n",
       "    </tr>\n",
       "    <tr>\n",
       "      <th>3</th>\n",
       "      <td>usual</td>\n",
       "      <td>proper</td>\n",
       "      <td>complete</td>\n",
       "      <td>1</td>\n",
       "      <td>convenient</td>\n",
       "      <td>convenient</td>\n",
       "      <td>slightly_prob</td>\n",
       "      <td>recommended</td>\n",
       "      <td>recommend</td>\n",
       "    </tr>\n",
       "    <tr>\n",
       "      <th>4</th>\n",
       "      <td>usual</td>\n",
       "      <td>proper</td>\n",
       "      <td>complete</td>\n",
       "      <td>1</td>\n",
       "      <td>convenient</td>\n",
       "      <td>convenient</td>\n",
       "      <td>slightly_prob</td>\n",
       "      <td>priority</td>\n",
       "      <td>priority</td>\n",
       "    </tr>\n",
       "  </tbody>\n",
       "</table>\n",
       "</div>"
      ],
      "text/plain": [
       "  parents has_nurs      form children     housing     finance         social  \\\n",
       "0   usual   proper  complete        1  convenient  convenient        nonprob   \n",
       "1   usual   proper  complete        1  convenient  convenient        nonprob   \n",
       "2   usual   proper  complete        1  convenient  convenient        nonprob   \n",
       "3   usual   proper  complete        1  convenient  convenient  slightly_prob   \n",
       "4   usual   proper  complete        1  convenient  convenient  slightly_prob   \n",
       "\n",
       "        health classifier  \n",
       "0  recommended  recommend  \n",
       "1     priority   priority  \n",
       "2    not_recom  not_recom  \n",
       "3  recommended  recommend  \n",
       "4     priority   priority  "
      ]
     },
     "execution_count": 28,
     "metadata": {},
     "output_type": "execute_result"
    }
   ],
   "source": [
    "# Output printing out first 5 columns\n",
    "df.head()"
   ]
  },
  {
   "cell_type": "markdown",
   "metadata": {},
   "source": [
    "### 3. Summary of our data\n",
    "\n",
    "We can look at the statical summary of every feature. For example, the average of a feature, mean etc."
   ]
  },
  {
   "cell_type": "code",
   "execution_count": 29,
   "metadata": {},
   "outputs": [
    {
     "name": "stdout",
     "output_type": "stream",
     "text": [
      "       parents   has_nurs      form children   housing finance   social  \\\n",
      "count    12960      12960     12960    12960     12960   12960    12960   \n",
      "unique       3          5         4        4         3       2        3   \n",
      "top      usual  very_crit  complete        3  critical  inconv  nonprob   \n",
      "freq      4320       2592      3240     3240      4320    6480     4320   \n",
      "\n",
      "           health classifier  \n",
      "count       12960      12960  \n",
      "unique          3          5  \n",
      "top     not_recom  not_recom  \n",
      "freq         4320       4320  \n"
     ]
    }
   ],
   "source": [
    "# The describe function prints the summary of the data\n",
    "print(df.describe())"
   ]
  },
  {
   "cell_type": "markdown",
   "metadata": {},
   "source": [
    "\n",
    "***************************************************************************************************************\n",
    "\n",
    "\n",
    "\n",
    "If we look at the above result clearly, we can infer the following. Let us take example of the feature 'parent'\n",
    "\n",
    "count : 12960  (It gives the number of instances of that feature. Here all features have same count. So, we can infer that there         are no missing values.)\n",
    "\n",
    "unique : 3     (This number says that there 3 different categories of feature parent.)\n",
    "\n",
    "top : usual    (This gives the category which occured the highest number of times in a feature)\n",
    "\n",
    "freq : 4320    (This gives the frequency of the top occurence category in that feature.)\n",
    "\n"
   ]
  },
  {
   "cell_type": "markdown",
   "metadata": {},
   "source": [
    "********************************************************************************************************************************"
   ]
  },
  {
   "cell_type": "markdown",
   "metadata": {},
   "source": [
    "### 4. Class distribution\n",
    "\n",
    "We can find out how the data is distributed. Because sometimes we might get some data which may be skewed. This leads to unexpected behaviour of our prediction model. \n",
    "\n"
   ]
  },
  {
   "cell_type": "code",
   "execution_count": 30,
   "metadata": {},
   "outputs": [
    {
     "name": "stdout",
     "output_type": "stream",
     "text": [
      "classifier\n",
      "not_recom     4320\n",
      "priority      4266\n",
      "recommend        2\n",
      "spec_prior    4044\n",
      "very_recom     328\n",
      "dtype: int64\n"
     ]
    }
   ],
   "source": [
    "# The group by function summarizes a particular feature.\n",
    "print(df.groupby('classifier').size())"
   ]
  },
  {
   "cell_type": "markdown",
   "metadata": {},
   "source": [
    "****\n",
    "\n",
    "In the above summary data, we ca see that the values feature has 5 different observations.  So, we should look at the data distribution of the expected output for every instance. \n",
    "\n",
    "Here, as we can see, the recommended variable is very less. Almost negligible.  very_recom variable is seen in 328 observations which is not too high but enough to train our machine.\n",
    "\n",
    "\n",
    "The remaining three variables are almost equally distributed. So, we are good to go\n",
    "\n",
    "\n",
    "\n",
    "\n",
    "***"
   ]
  },
  {
   "cell_type": "markdown",
   "metadata": {},
   "source": [
    "## Data Vizualization \n",
    "\n",
    "Now that we have a rough idea of our dataset, we can understand it much better by vizualising it. Data can be vizualised by either Univariate plots or Multivariate plots.\n",
    "\n",
    "Univariate plots helps us in understanding a particular feature. \n",
    "\n",
    "Where as Multivariate plots helps us in understanding the relationship between different features."
   ]
  },
  {
   "cell_type": "markdown",
   "metadata": {},
   "source": [
    "### 1. Univariate plots\n",
    "\n",
    "Now we will start with univariate plots to understand each feature in our dataset. Run the cell below to get the same information."
   ]
  },
  {
   "cell_type": "markdown",
   "metadata": {},
   "source": [
    "\n",
    "To plot the data, we need Integer values because we cannot plot strings. So, we should convert all the variables into Integer values. So, we use the map function to do the task.\n"
   ]
  },
  {
   "cell_type": "code",
   "execution_count": 31,
   "metadata": {},
   "outputs": [
    {
     "data": {
      "text/html": [
       "<div>\n",
       "<style>\n",
       "    .dataframe thead tr:only-child th {\n",
       "        text-align: right;\n",
       "    }\n",
       "\n",
       "    .dataframe thead th {\n",
       "        text-align: left;\n",
       "    }\n",
       "\n",
       "    .dataframe tbody tr th {\n",
       "        vertical-align: top;\n",
       "    }\n",
       "</style>\n",
       "<table border=\"1\" class=\"dataframe\">\n",
       "  <thead>\n",
       "    <tr style=\"text-align: right;\">\n",
       "      <th></th>\n",
       "      <th>parents</th>\n",
       "      <th>has_nurs</th>\n",
       "      <th>form</th>\n",
       "      <th>children</th>\n",
       "      <th>housing</th>\n",
       "      <th>finance</th>\n",
       "      <th>social</th>\n",
       "      <th>health</th>\n",
       "      <th>classifier</th>\n",
       "    </tr>\n",
       "  </thead>\n",
       "  <tbody>\n",
       "    <tr>\n",
       "      <th>0</th>\n",
       "      <td>0</td>\n",
       "      <td>0</td>\n",
       "      <td>0</td>\n",
       "      <td>1</td>\n",
       "      <td>0</td>\n",
       "      <td>0</td>\n",
       "      <td>0</td>\n",
       "      <td>0</td>\n",
       "      <td>0</td>\n",
       "    </tr>\n",
       "    <tr>\n",
       "      <th>1</th>\n",
       "      <td>0</td>\n",
       "      <td>0</td>\n",
       "      <td>0</td>\n",
       "      <td>1</td>\n",
       "      <td>0</td>\n",
       "      <td>0</td>\n",
       "      <td>0</td>\n",
       "      <td>1</td>\n",
       "      <td>3</td>\n",
       "    </tr>\n",
       "    <tr>\n",
       "      <th>2</th>\n",
       "      <td>0</td>\n",
       "      <td>0</td>\n",
       "      <td>0</td>\n",
       "      <td>1</td>\n",
       "      <td>0</td>\n",
       "      <td>0</td>\n",
       "      <td>0</td>\n",
       "      <td>2</td>\n",
       "      <td>1</td>\n",
       "    </tr>\n",
       "    <tr>\n",
       "      <th>3</th>\n",
       "      <td>0</td>\n",
       "      <td>0</td>\n",
       "      <td>0</td>\n",
       "      <td>1</td>\n",
       "      <td>0</td>\n",
       "      <td>0</td>\n",
       "      <td>1</td>\n",
       "      <td>0</td>\n",
       "      <td>0</td>\n",
       "    </tr>\n",
       "    <tr>\n",
       "      <th>4</th>\n",
       "      <td>0</td>\n",
       "      <td>0</td>\n",
       "      <td>0</td>\n",
       "      <td>1</td>\n",
       "      <td>0</td>\n",
       "      <td>0</td>\n",
       "      <td>1</td>\n",
       "      <td>1</td>\n",
       "      <td>3</td>\n",
       "    </tr>\n",
       "  </tbody>\n",
       "</table>\n",
       "</div>"
      ],
      "text/plain": [
       "   parents  has_nurs  form  children  housing  finance  social  health  \\\n",
       "0        0         0     0         1        0        0       0       0   \n",
       "1        0         0     0         1        0        0       0       1   \n",
       "2        0         0     0         1        0        0       0       2   \n",
       "3        0         0     0         1        0        0       1       0   \n",
       "4        0         0     0         1        0        0       1       1   \n",
       "\n",
       "   classifier  \n",
       "0           0  \n",
       "1           3  \n",
       "2           1  \n",
       "3           0  \n",
       "4           3  "
      ]
     },
     "execution_count": 31,
     "metadata": {},
     "output_type": "execute_result"
    }
   ],
   "source": [
    "# Converting the data into Integers to plot.\n",
    "\n",
    "df['parents'] = df.parents.map({'usual':0, 'pretentious':1, 'great_pret':2 })\n",
    "df['has_nurs'] = df.has_nurs.map({'proper':0, 'less_proper':1, 'improper':2 ,'critical':3,'very_crit':4})\n",
    "df['form'] = df.form.map({'complete':0, 'completed':1, 'incomplete':2,'foster':3 })\n",
    "df['children'] = df.children.map({'1':1, '2':2,'3':3,'more':4 })\n",
    "df['housing'] = df.housing.map({'convenient':0, 'less_conv':1, 'critical':2 })\n",
    "df['finance'] = df.finance.map({'convenient':0, 'inconv':1 })\n",
    "df['social'] = df.social.map({'nonprob':0, 'slightly_prob':1, 'problematic':2 })\n",
    "df['health'] = df.health.map({'recommended':0, 'priority':1, 'not_recom':2 })\n",
    "df['classifier'] = df['classifier'].map({ 'recommend':0,'not_recom':1, 'very_recom':2,'priority':3,'spec_prior':4 })\n",
    "\n",
    "# Prints first five values of the dataset\n",
    "df.head()"
   ]
  },
  {
   "cell_type": "markdown",
   "metadata": {},
   "source": [
    "Here if we observe the above dataframe, we can see that all the data is converted into Integer values which is suitable for plotting in various graphs."
   ]
  },
  {
   "cell_type": "markdown",
   "metadata": {},
   "source": [
    "### Box & Whisker plots to analyse the distribution of categories in features of data set"
   ]
  },
  {
   "cell_type": "code",
   "execution_count": 32,
   "metadata": {},
   "outputs": [
    {
     "data": {
      "image/png": "[encoded data removed]",
      "text/plain": [
       "<matplotlib.figure.Figure at 0xe60cd30>"
      ]
     },
     "metadata": {},
     "output_type": "display_data"
    }
   ],
   "source": [
    "# Sets the figure size\n",
    "plt.rcParams['figure.figsize'] = (16,8)\n",
    "\n",
    "# This plots the data in a box plot\n",
    "df.boxplot()\n",
    "plt.show()"
   ]
  },
  {
   "cell_type": "raw",
   "metadata": {},
   "source": [
    "\n",
    "The above figure shows the distribution of the data in a box plot.Box plot gives the idea about the distribution of data on individual features i.e \n",
    "\n",
    "The box an whisker plots are mapped on a scale from 0 to 4 because during our data conversion from non numeric to numeric the least value is 0 and the highest is 4.\n",
    "\n",
    "Lets dive into the information of the each and every box and whisker plot of every feature.\n",
    "\n",
    "\n",
    "PARENTS:\n",
    "smallest value:0,median:1,largest value:2,lower quartile=0,higher quartile=1,outliers:none\n",
    "\n",
    "HAS_NURS:\n",
    "smallest value:0,median:2,largest value:4,lower quartile=1,higher quartile=3,outlier:none\n",
    "\n",
    "FORM:\n",
    "smallest value:0,median:1.5,largest value:3,lower quartile=0.75,higher quartile=2.25,outliers:none\n",
    "\n",
    "CHILDREN:\n",
    "smallest value:1,median:2.5,largest value:4,lower quartile=1.75,higher quartile=3.25,outliers:none\n",
    "\n",
    "HOUSING:\n",
    "smallest value:0,median:1,largest value:2,lower quartile=0,higher quartile=1,outliers:none\n",
    "\n",
    "FINANCE:\n",
    "smallest value:0,median:0.5,largest value:1,lower quartile=0,higher quartile=1,outliers:none\n",
    "\n",
    "SOCIAL:\n",
    "smallest value:0,median:1,largest value:2,lower quartile=0,higher quartile=1,outliers:none\n",
    "\n",
    "HEALTH:\n",
    "smallest value:0,median:1,largest value:2,lower quartile=0,higher quartile=1,outliers:none\n",
    "\n",
    "CLASSIFIER:\n",
    "smallest value:0,median:3,largest value:4,lower quartile=1,higher quartile=4,outliers:none\n",
    "\n",
    "\n",
    "Note(take over information):\n",
    "The main intention behind the visualisation of data set in box plots is to find the outliers, it is clearly evident that there is no instance which falls one and half ranges of INNER QUARTILE or one and half ranges the UPPER QUARTILE. This helps us to conclude that the data set is distributed without outliers and it is distributed without too much uncertainty, however we have to explore how much every unique categorical value are contributing to features inorder to get better idea on the data.\n",
    "\n",
    "\n"
   ]
  },
  {
   "cell_type": "markdown",
   "metadata": {},
   "source": [
    "### Distribution of values in features."
   ]
  },
  {
   "cell_type": "code",
   "execution_count": 33,
   "metadata": {
    "scrolled": true
   },
   "outputs": [
    {
     "data": {
      "image/png": "[encoded data removed]",
      "text/plain": [
       "<matplotlib.figure.Figure at 0xe4c3cc0>"
      ]
     },
     "metadata": {},
     "output_type": "display_data"
    }
   ],
   "source": [
    "# Sets the figure size\n",
    "plt.rcParams['figure.figsize'] = (15,15)\n",
    "\n",
    "# This plots the data in a histogram\n",
    "df.hist()\n",
    "plt.show()"
   ]
  },
  {
   "cell_type": "raw",
   "metadata": {},
   "source": [
    "\n",
    "The above figure shows the histograms  for of the features.we can see the distribution of data in every parameter.\n",
    "\n",
    "Childern: all the categorical values i.e 1,2,3,4 each of 25% states that the feature is uniformly distributed.\n",
    "\n",
    "classifier:the categories 1,2 are almost uniformly distributed and 4 stands next to them,but coming to 2 it is very much low,at the category 0 is not at all visible because it is very much less when compared to others.\n",
    "\n",
    "finance:it is uniformly distributed with 50% of each category.\n",
    "\n",
    "form:all the categories 0,1,2 are having 33.33% contribution each i.e uniformly distributed.\n",
    "\n",
    "has_nurse:all the 5 categories with contribution of 25% summed up equally to form a uniform distribution.\n",
    "\n",
    "health:uniformly distributed with each category contribution of 33.33%.\n",
    "\n",
    "housing:uniform distribution is visualised with each contribution of 33.33%.\n",
    "\n",
    "parents:uniformly distributed and we have enough instances each of 33.33%.\n",
    "\n",
    "social:all the three categories are uniformly distributed with 33.33% each.\n",
    "\n",
    "\n",
    "Note:\n",
    "In the classifier feature there is more to explore we have to find the contribution of each and every category,from the histogram we can conclude that the distribution is skewed,so we will dive into pie chart to explore this feature.\n"
   ]
  },
  {
   "cell_type": "markdown",
   "metadata": {},
   "source": [
    "### Pie plot to explore 'classifier' feature"
   ]
  },
  {
   "cell_type": "code",
   "execution_count": 34,
   "metadata": {
    "scrolled": true
   },
   "outputs": [
    {
     "data": {
      "image/png": "[encoded data removed]",
      "text/plain": [
       "<matplotlib.figure.Figure at 0x133797f0>"
      ]
     },
     "metadata": {},
     "output_type": "display_data"
    }
   ],
   "source": [
    "df.classifier.value_counts().plot(kind='pie',autopct='%1.1f%%')\n",
    "#plt.figure(figsize=(5,5))\n",
    "plt.axis('equal')\n",
    "plt.title('Different types of classes')\n",
    "fig = plt.gcf()\n",
    "fig.set_size_inches(5,5)\n",
    "plt.show()"
   ]
  },
  {
   "cell_type": "raw",
   "metadata": {},
   "source": [
    "\n",
    "In the histogram plot for the classifier we cannot represent \"recommended category\" because there are only just 3 instances out of 12960 so here we came up with pie plot where we can identify the recommended category which is nearly equal to 0.0\n",
    "\n",
    "So the contribution is as follows\n",
    "0-0.002%(almost nearly equal to 0)\n",
    "1-33.3%\n",
    "2-2.5%\n",
    "3-32.9%\n",
    "4-31.2%\n",
    "we dont have enough instances for the category 0 and 2, this is  a bit skewed feature."
   ]
  },
  {
   "cell_type": "markdown",
   "metadata": {},
   "source": [
    "### 2. Multivariate Plots\n",
    "\n",
    "Now, we will create some multivariate plots."
   ]
  },
  {
   "cell_type": "code",
   "execution_count": 35,
   "metadata": {},
   "outputs": [
    {
     "data": {
      "image/png": "[encoded data removed]",
      "text/plain": [
       "<matplotlib.figure.Figure at 0x133391d0>"
      ]
     },
     "metadata": {},
     "output_type": "display_data"
    }
   ],
   "source": [
    "# This piece of code generates a Matrix form of Scatter Plot.\n",
    "scatter_matrix(df)\n",
    "plt.rcParams['figure.figsize'] = (40, 40)\n",
    "\n",
    "# Displays the scatter plot for our dataframe.\n",
    "plt.show()"
   ]
  },
  {
   "cell_type": "markdown",
   "metadata": {},
   "source": [
    "*********\n",
    "\n",
    "The above figure shows the scatter plots of all features in the form of a matrix.\n",
    "Scatter plots are similar to line graphs in that they use horizontal and vertical axes to plot data points. However, they have a very specific purpose. Scatter plots show how much one variable is affected by another. The relationship between two variables is called their correlation .\n",
    "\n",
    "If the plot is densly populated then the parameters has strong realtion between each other,the has_nurs paramter is strongly connected with different categories while the finance parameter is weakly connected with other parameters.\n",
    "\n",
    "*********"
   ]
  },
  {
   "cell_type": "markdown",
   "metadata": {},
   "source": [
    "## Summary\n",
    "\n",
    "So, we described the feaures of Nursery School data, sanitized the data and vizualised it using pandas and matplotlib libraries."
   ]
  }
 ],
 "metadata": {
  "kernelspec": {
   "display_name": "Python 2",
   "language": "python",
   "name": "python2"
  },
  "language_info": {
   "codemirror_mode": {
    "name": "ipython",
    "version": 2
   },
   "file_extension": ".py",
   "mimetype": "text/x-python",
   "name": "python",
   "nbconvert_exporter": "python",
   "pygments_lexer": "ipython2",
   "version": "2.7.13"
  }
 },
 "nbformat": 4,
 "nbformat_minor": 2
}
