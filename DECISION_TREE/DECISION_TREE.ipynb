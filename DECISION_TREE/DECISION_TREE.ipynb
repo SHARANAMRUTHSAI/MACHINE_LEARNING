{
 "cells": [
  {
   "cell_type": "code",
   "execution_count": 505,
   "metadata": {
    "collapsed": true
   },
   "outputs": [],
   "source": [
    "import pandas as pd\n",
    "import numpy as np\n",
    "from collections import Counter\n",
    "from math import sqrt\n",
    "import random\n",
    "import warnings\n"
   ]
  },
  {
   "cell_type": "code",
   "execution_count": 506,
   "metadata": {},
   "outputs": [
    {
     "data": {
      "text/html": [
       "<div>\n",
       "<style>\n",
       "    .dataframe thead tr:only-child th {\n",
       "        text-align: right;\n",
       "    }\n",
       "\n",
       "    .dataframe thead th {\n",
       "        text-align: left;\n",
       "    }\n",
       "\n",
       "    .dataframe tbody tr th {\n",
       "        vertical-align: top;\n",
       "    }\n",
       "</style>\n",
       "<table border=\"1\" class=\"dataframe\">\n",
       "  <thead>\n",
       "    <tr style=\"text-align: right;\">\n",
       "      <th></th>\n",
       "      <th>Type</th>\n",
       "      <th>LifeStyle</th>\n",
       "      <th>Vacation</th>\n",
       "      <th>eCredit</th>\n",
       "      <th>Salary</th>\n",
       "      <th>Property</th>\n",
       "      <th>Label</th>\n",
       "    </tr>\n",
       "  </thead>\n",
       "  <tbody>\n",
       "    <tr>\n",
       "      <th>0</th>\n",
       "      <td>student</td>\n",
       "      <td>spend&gt;saving</td>\n",
       "      <td>6</td>\n",
       "      <td>40</td>\n",
       "      <td>13.62</td>\n",
       "      <td>3.2804</td>\n",
       "      <td>C1</td>\n",
       "    </tr>\n",
       "    <tr>\n",
       "      <th>1</th>\n",
       "      <td>student</td>\n",
       "      <td>spend&gt;saving</td>\n",
       "      <td>11</td>\n",
       "      <td>21</td>\n",
       "      <td>15.32</td>\n",
       "      <td>2.0232</td>\n",
       "      <td>C1</td>\n",
       "    </tr>\n",
       "    <tr>\n",
       "      <th>2</th>\n",
       "      <td>student</td>\n",
       "      <td>spend&gt;saving</td>\n",
       "      <td>7</td>\n",
       "      <td>64</td>\n",
       "      <td>16.55</td>\n",
       "      <td>3.1202</td>\n",
       "      <td>C1</td>\n",
       "    </tr>\n",
       "    <tr>\n",
       "      <th>3</th>\n",
       "      <td>student</td>\n",
       "      <td>spend&gt;saving</td>\n",
       "      <td>3</td>\n",
       "      <td>47</td>\n",
       "      <td>15.71</td>\n",
       "      <td>3.4022</td>\n",
       "      <td>C1</td>\n",
       "    </tr>\n",
       "    <tr>\n",
       "      <th>4</th>\n",
       "      <td>student</td>\n",
       "      <td>spend&gt;saving</td>\n",
       "      <td>15</td>\n",
       "      <td>10</td>\n",
       "      <td>16.96</td>\n",
       "      <td>2.2825</td>\n",
       "      <td>C1</td>\n",
       "    </tr>\n",
       "  </tbody>\n",
       "</table>\n",
       "</div>"
      ],
      "text/plain": [
       "      Type     LifeStyle  Vacation  eCredit  Salary  Property Label\n",
       "0  student  spend>saving         6       40   13.62    3.2804    C1\n",
       "1  student  spend>saving        11       21   15.32    2.0232    C1\n",
       "2  student  spend>saving         7       64   16.55    3.1202    C1\n",
       "3  student  spend>saving         3       47   15.71    3.4022    C1\n",
       "4  student  spend>saving        15       10   16.96    2.2825    C1"
      ]
     },
     "execution_count": 506,
     "metadata": {},
     "output_type": "execute_result"
    }
   ],
   "source": [
    "#Reading the data set into a data frame with the name df and assigning header to it.\n",
    "\n",
    "hd=['Type', 'LifeStyle', 'Vacation', 'eCredit', 'Salary', 'Property', 'Label']\n",
    "df = pd.read_csv('train.txt',header=None, names=hd)\n",
    "\n",
    "\n",
    "#display the top 5 instances in data frame\n",
    "df.head()\n",
    "\n"
   ]
  },
  {
   "cell_type": "code",
   "execution_count": 507,
   "metadata": {},
   "outputs": [],
   "source": [
    "#we are going to select our cross validation testing data set as 20% of traning data\n",
    "test_size=0.2 \n",
    "\n",
    "\n",
    "# converting the data frame into a list which will be helpful for the building of tree.\n",
    "dataframesplit= df.values.tolist()\n",
    "for row in dataframesplit:\n",
    "    #print row\n",
    "    row[2]=float(row[2])\n",
    "    row[3]=float(row[3])\n",
    "\n",
    "\n",
    "#we have to shuffle the training data so that we can get different instances while building the model every time\n",
    "random.shuffle(dataframesplit)\n",
    "\n",
    "# assigning 80% of traning data to build the model\n",
    "dataframelist= dataframesplit[:-int(test_size*len(dataframesplit))]\n",
    "\n",
    "# assigning 20% of traning data to build the model\n",
    "dataframecrossvalidate=dataframesplit[-int(test_size*len(dataframesplit)):]\n",
    "\n"
   ]
  },
  {
   "cell_type": "code",
   "execution_count": 508,
   "metadata": {
    "collapsed": true
   },
   "outputs": [],
   "source": [
    "#counts how many number of instances are there for each and every category\n",
    "def class_counts(rows):\n",
    "    counts = {}  \n",
    "    for row in rows:\n",
    "        label = row[-1]\n",
    "        if label not in counts:\n",
    "            counts[label] = 0\n",
    "        counts[label] += 1\n",
    "    return counts"
   ]
  },
  {
   "cell_type": "code",
   "execution_count": 509,
   "metadata": {
    "collapsed": true
   },
   "outputs": [],
   "source": [
    "#this class is mainly to display the question which we are going to ask at a node\n",
    "#this also helps to find out to compare to objects.\n",
    "\n",
    "class Question:\n",
    "    def __init__(self, column, value):\n",
    "        #to select column in the data frame we are sending the column number\n",
    "        #the value with which we are going to compare the rest of the data set.\n",
    "        self.column = column\n",
    "        self.value = value\n",
    "        \n",
    "    # when a new instance is compared with this object it returns true or false\n",
    "    def match(self, example):\n",
    "        val = example[self.column]\n",
    "        #if is_numeric(val):\n",
    "        if(type(val)==int or type(val)==float):\n",
    "            return float(val) >= float(self.value)\n",
    "        else:\n",
    "            return val == self.value\n",
    "\n",
    "    def __repr__(self):\n",
    "        # This is just a helper method to print\n",
    "        # the question in a readable format.\n",
    "        condition = \"==\"\n",
    "        if (type(self.value)==int or type(self.value)==float):\n",
    "            condition = \">=\"\n",
    "        return \"Is %s %s %s?\" % (\n",
    "            hd[self.column], condition, str(self.value))"
   ]
  },
  {
   "cell_type": "code",
   "execution_count": 510,
   "metadata": {
    "collapsed": true
   },
   "outputs": [],
   "source": [
    "#this function helps to segregate the instances into two lists depending on the question\n",
    "#this branching will help in building tree.\n",
    "def results_partition(rows, question):\n",
    "    true_instances, false_instances = [], []\n",
    "    for row in rows:\n",
    "        # with the help of match function in the question class we are going to compare rows and question\n",
    "        if question.match(row):\n",
    "            true_instances.append(row)\n",
    "        else:\n",
    "            false_instances.append(row)\n",
    "    #print true_instances\n",
    "    return true_instances, false_instances"
   ]
  },
  {
   "cell_type": "code",
   "execution_count": 511,
   "metadata": {
    "collapsed": true
   },
   "outputs": [],
   "source": [
    "#gini impurity is to find how much mixed is the data at a particular node using the data frame\n",
    "# for the root node the entire data frame will be sent to gini function inorder to find the gini impurity.\n",
    "# on further development true_instances and flase instances of a particular node will be sent individually.\n",
    "def gini(rows):\n",
    "    counts = class_counts(rows)\n",
    "    impurity = 1\n",
    "    for lbl in counts:\n",
    "        prob_of_lbl = counts[lbl] / float(len(rows))\n",
    "        impurity -= prob_of_lbl**2\n",
    "    return impurity"
   ]
  },
  {
   "cell_type": "code",
   "execution_count": 512,
   "metadata": {
    "collapsed": true
   },
   "outputs": [],
   "source": [
    "#information gained is helpful to find how much best is the decision taken at the node\n",
    "def info_gain(left, right, current_uncertainty):\n",
    "    p = float(len(left)) / (len(left) + len(right))\n",
    "    return current_uncertainty - p * gini(left) - (1 - p) * gini(right)"
   ]
  },
  {
   "cell_type": "code",
   "execution_count": 513,
   "metadata": {
    "collapsed": true
   },
   "outputs": [],
   "source": [
    "#this method takes help of info_gain to decide whether the condition best suits for the futher branch of data\n",
    "def find_best_split(rows):\n",
    "    best_gain = 0  \n",
    "    best_question = None  \n",
    "    current_uncertainty = gini(rows)\n",
    "    n_features = len(rows[0]) - 1  \n",
    "    for col in range(n_features):  \n",
    "        values = set([row[col] for row in rows])  \n",
    "        for val in values:  \n",
    "            question = Question(col, val)\n",
    "            true_rows, false_rows = results_partition(rows, question)# calculating true and flase rows\n",
    "            if len(true_rows) == 0 or len(false_rows) == 0:\n",
    "                continue\n",
    "            gain = info_gain(true_rows, false_rows, current_uncertainty)\n",
    "            if gain >= best_gain: # if the calculated gain is best then we change the decision\n",
    "                best_gain, best_question = gain, question\n",
    "\n",
    "    return best_gain, best_question"
   ]
  },
  {
   "cell_type": "code",
   "execution_count": 514,
   "metadata": {
    "collapsed": true
   },
   "outputs": [],
   "source": [
    "#Leaf node which consists of rows depending on the condition at the node\n",
    "class Leaf:\n",
    "    def __init__(self, rows):\n",
    "        self.predictions = class_counts(rows)"
   ]
  },
  {
   "cell_type": "code",
   "execution_count": 515,
   "metadata": {
    "collapsed": true
   },
   "outputs": [],
   "source": [
    "#eacha and every node has true an flase branch which spllits the data\n",
    "class Decision_Node:\n",
    "    def __init__(self,question,true_branch,false_branch):\n",
    "        self.question = question\n",
    "        self.true_branch = true_branch\n",
    "        self.false_branch = false_branch"
   ]
  },
  {
   "cell_type": "code",
   "execution_count": 516,
   "metadata": {
    "collapsed": true
   },
   "outputs": [],
   "source": [
    "def build_tree(rows):\n",
    "    gain, question = find_best_split(rows)\n",
    "    if gain == 0:\n",
    "        return Leaf(rows)\n",
    "    true_rows, false_rows = results_partition(rows, question)\n",
    "    true_branch = build_tree(true_rows)\n",
    "    false_branch = build_tree(false_rows)\n",
    "    return Decision_Node(question, true_branch, false_branch)"
   ]
  },
  {
   "cell_type": "code",
   "execution_count": 517,
   "metadata": {
    "collapsed": true
   },
   "outputs": [],
   "source": [
    "my_tree = build_tree(dataframelist) # creating a tree with 80% of training data\n",
    "my_complete_tree=build_tree(dataframesplit) # creating a tree with 100% of training data"
   ]
  },
  {
   "cell_type": "code",
   "execution_count": 518,
   "metadata": {
    "collapsed": true
   },
   "outputs": [],
   "source": [
    "def classify(row, node):\n",
    "    \"\"\"See the 'rules of recursion' above.\"\"\"\n",
    "\n",
    "    # Base case: we've reached a leaf\n",
    "    if isinstance(node, Leaf):\n",
    "        return node.predictions\n",
    "    # Decide whether to follow the true-branch or the false-branch.\n",
    "    # Compare the feature / value stored in the node,\n",
    "    # to the example we're considering.\n",
    "    if node.question.match(row):\n",
    "        return classify(row, node.true_branch)\n",
    "    else:\n",
    "        return classify(row, node.false_branch)"
   ]
  },
  {
   "cell_type": "code",
   "execution_count": 519,
   "metadata": {
    "collapsed": true
   },
   "outputs": [],
   "source": [
    "def print_leaf(counts):\n",
    "    \"\"\"A nicer way to print the predictions at a leaf.\"\"\"\n",
    "    total = sum(counts.values()) * 1.0\n",
    "    probs = {}\n",
    "    for lbl in counts.keys():\n",
    "        return lbl\n",
    "        #print lbl\n",
    "        #probs[lbl] = str(int(counts[lbl] / total * 100)) + \"%\"\n",
    "    #return probs"
   ]
  },
  {
   "cell_type": "code",
   "execution_count": 520,
   "metadata": {},
   "outputs": [
    {
     "data": {
      "text/html": [
       "<div>\n",
       "<style>\n",
       "    .dataframe thead tr:only-child th {\n",
       "        text-align: right;\n",
       "    }\n",
       "\n",
       "    .dataframe thead th {\n",
       "        text-align: left;\n",
       "    }\n",
       "\n",
       "    .dataframe tbody tr th {\n",
       "        vertical-align: top;\n",
       "    }\n",
       "</style>\n",
       "<table border=\"1\" class=\"dataframe\">\n",
       "  <thead>\n",
       "    <tr style=\"text-align: right;\">\n",
       "      <th></th>\n",
       "      <th>Type</th>\n",
       "      <th>LifeStyle</th>\n",
       "      <th>Vacation</th>\n",
       "      <th>eCredit</th>\n",
       "      <th>Salary</th>\n",
       "      <th>Property</th>\n",
       "      <th>Label</th>\n",
       "    </tr>\n",
       "  </thead>\n",
       "  <tbody>\n",
       "    <tr>\n",
       "      <th>0</th>\n",
       "      <td>student</td>\n",
       "      <td>spend&lt;saving</td>\n",
       "      <td>12</td>\n",
       "      <td>19</td>\n",
       "      <td>14.7900</td>\n",
       "      <td>3.7697</td>\n",
       "      <td>C1</td>\n",
       "    </tr>\n",
       "    <tr>\n",
       "      <th>1</th>\n",
       "      <td>student</td>\n",
       "      <td>spend&gt;&gt;saving</td>\n",
       "      <td>29</td>\n",
       "      <td>10</td>\n",
       "      <td>16.1900</td>\n",
       "      <td>2.4839</td>\n",
       "      <td>C1</td>\n",
       "    </tr>\n",
       "    <tr>\n",
       "      <th>2</th>\n",
       "      <td>student</td>\n",
       "      <td>spend&lt;&lt;saving</td>\n",
       "      <td>28</td>\n",
       "      <td>60</td>\n",
       "      <td>15.4600</td>\n",
       "      <td>1.1885</td>\n",
       "      <td>C1</td>\n",
       "    </tr>\n",
       "    <tr>\n",
       "      <th>3</th>\n",
       "      <td>engineer</td>\n",
       "      <td>spend&gt;saving</td>\n",
       "      <td>15</td>\n",
       "      <td>41</td>\n",
       "      <td>21.2600</td>\n",
       "      <td>1.4379</td>\n",
       "      <td>C1</td>\n",
       "    </tr>\n",
       "    <tr>\n",
       "      <th>4</th>\n",
       "      <td>librarian</td>\n",
       "      <td>spend&lt;saving</td>\n",
       "      <td>2</td>\n",
       "      <td>9</td>\n",
       "      <td>19.7207</td>\n",
       "      <td>0.6913</td>\n",
       "      <td>C1</td>\n",
       "    </tr>\n",
       "  </tbody>\n",
       "</table>\n",
       "</div>"
      ],
      "text/plain": [
       "        Type      LifeStyle  Vacation  eCredit   Salary  Property Label\n",
       "0    student   spend<saving        12       19  14.7900    3.7697    C1\n",
       "1    student  spend>>saving        29       10  16.1900    2.4839    C1\n",
       "2    student  spend<<saving        28       60  15.4600    1.1885    C1\n",
       "3   engineer   spend>saving        15       41  21.2600    1.4379    C1\n",
       "4  librarian   spend<saving         2        9  19.7207    0.6913    C1"
      ]
     },
     "execution_count": 520,
     "metadata": {},
     "output_type": "execute_result"
    }
   ],
   "source": [
    "\n",
    "# reading the testing data set into a data frame\n",
    "dft = pd.read_table('test.csv', sep=',', header=None, names=['Type', 'LifeStyle', 'Vacation', 'eCredit', 'Salary', 'Property', 'Label'])\n",
    "dft.head()\n"
   ]
  },
  {
   "cell_type": "code",
   "execution_count": 521,
   "metadata": {
    "collapsed": true
   },
   "outputs": [],
   "source": [
    "\n",
    "#converting the testing data into list\n",
    "dataframetest= dft.values.tolist()\n",
    "for row in dataframetest:\n",
    "    #print row\n",
    "    row[2]=float(row[2])\n",
    "    row[3]=float(row[3])\n",
    "\n"
   ]
  },
  {
   "cell_type": "code",
   "execution_count": 522,
   "metadata": {},
   "outputs": [
    {
     "name": "stdout",
     "output_type": "stream",
     "text": [
      "Accuarcy for cross validation : 89\n"
     ]
    }
   ],
   "source": [
    "count=0\n",
    "total=0\n",
    "for row in dataframecrossvalidate:\n",
    "    if(row[-1]==print_leaf(classify(row, my_tree))):\n",
    "        count+=1\n",
    "    total+=1\n",
    "    \n",
    "print 'Accuarcy for cross validation :',(count*100)/total\n"
   ]
  },
  {
   "cell_type": "code",
   "execution_count": 523,
   "metadata": {},
   "outputs": [
    {
     "name": "stdout",
     "output_type": "stream",
     "text": [
      "Accuarcy for testing data set  using 80% of data : 14\n"
     ]
    }
   ],
   "source": [
    "count=0\n",
    "total=0\n",
    "for row in dataframetest:\n",
    "    if(row[-1]==print_leaf(classify(row, my_tree))):\n",
    "        count+=1\n",
    "    total+=1\n",
    "    \n",
    "print 'Accuarcy for testing data set  using 80% of data :',(count*100)/total\n"
   ]
  },
  {
   "cell_type": "code",
   "execution_count": 524,
   "metadata": {},
   "outputs": [
    {
     "name": "stdout",
     "output_type": "stream",
     "text": [
      "Accuarcy for testing data set using 100% of data : 14\n"
     ]
    }
   ],
   "source": [
    "count=0\n",
    "total=0\n",
    "for row in dataframetest:\n",
    "    if(row[-1]==print_leaf(classify(row, my_complete_tree))):\n",
    "        count+=1\n",
    "    total+=1\n",
    "    \n",
    "print 'Accuarcy for testing data set using 100% of data :',(count*100)/total\n"
   ]
  },
  {
   "cell_type": "code",
   "execution_count": 525,
   "metadata": {
    "collapsed": true
   },
   "outputs": [],
   "source": [
    "\"\"\" In order to use default method in sklearn we have to make sure that our dont contain Strings.\n",
    "    So we have to convert all the required columns.\"\"\"\n",
    "\n",
    "\n",
    "\n",
    "\n",
    "#converting both the testing and the training data into vlaues.\n",
    "\n",
    "df['Type'] = df.Type.map({'student':1,'engineer':2,'librarian':3,'professor':4,'doctor':5 }) \n",
    "df['LifeStyle'] = df.LifeStyle.map({'spend<<saving':1, 'spend<saving':2, 'spend>saving':3, 'spend>>saving':4}) \n",
    "df['Label'] = df.Label.map({'C1':1, 'C2':2 ,'C3':3 ,'C4':4 ,'C5':5})\n",
    "\n",
    "\n",
    "dft['Type'] = dft.Type.map({'student':1,'engineer':2,'librarian':3,'professor':4,'doctor':5 }) \n",
    "dft['LifeStyle'] = dft.LifeStyle.map({'spend<<saving':1, 'spend<saving':2, 'spend>saving':3, 'spend>>saving':4}) \n",
    "dft['Label'] = dft.Label.map({'C1':1, 'C2':2 ,'C3':3 ,'C4':4 ,'C5':5})\n",
    "\n"
   ]
  },
  {
   "cell_type": "code",
   "execution_count": 526,
   "metadata": {
    "collapsed": true
   },
   "outputs": [],
   "source": [
    "from sklearn import tree\n",
    "\n",
    "y_train=df['Label']\n",
    "\n",
    "#removing the label from the data frame\n",
    "x_train=df.drop('Label',axis=1)\n",
    "\n",
    "y_test=dft['Label']\n",
    "\n",
    "#removing the label from the test data frame.\n",
    "x_test=dft.drop('Label',axis=1)\n"
   ]
  },
  {
   "cell_type": "code",
   "execution_count": 527,
   "metadata": {},
   "outputs": [
    {
     "data": {
      "text/plain": [
       "DecisionTreeClassifier(class_weight=None, criterion='gini', max_depth=3,\n",
       "            max_features=None, max_leaf_nodes=None,\n",
       "            min_impurity_split=1e-07, min_samples_leaf=1,\n",
       "            min_samples_split=2, min_weight_fraction_leaf=0.0,\n",
       "            presort=False, random_state=None, splitter='best')"
      ]
     },
     "execution_count": 527,
     "metadata": {},
     "output_type": "execute_result"
    }
   ],
   "source": [
    "clf = tree.DecisionTreeClassifier(max_depth=3)\n",
    "clf.fit(x_train, y_train)"
   ]
  },
  {
   "cell_type": "code",
   "execution_count": 528,
   "metadata": {},
   "outputs": [
    {
     "name": "stdout",
     "output_type": "stream",
     "text": [
      "Accuracy of testing data by using default decision tree classifier: 23.8095238095\n"
     ]
    }
   ],
   "source": [
    "# predicitng the clusters for our testing data\n",
    "y_pred = clf.predict(x_test)\n",
    "#print y_pred\n",
    "count=0.0\n",
    "for i in y_pred:\n",
    "    if(i==1):\n",
    "        count+=1\n",
    "print 'Accuracy of testing data by using default decision tree classifier:', (count*100)/len(y_pred)\n",
    "\n"
   ]
  },
  {
   "cell_type": "code",
   "execution_count": null,
   "metadata": {
    "collapsed": true
   },
   "outputs": [],
   "source": []
  }
 ],
 "metadata": {
  "kernelspec": {
   "display_name": "Python 2",
   "language": "python",
   "name": "python2"
  },
  "language_info": {
   "codemirror_mode": {
    "name": "ipython",
    "version": 2
   },
   "file_extension": ".py",
   "mimetype": "text/x-python",
   "name": "python",
   "nbconvert_exporter": "python",
   "pygments_lexer": "ipython2",
   "version": "2.7.13"
  }
 },
 "nbformat": 4,
 "nbformat_minor": 2
}
